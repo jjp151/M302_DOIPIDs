{
 "cells": [
  {
   "cell_type": "markdown",
   "metadata": {
    "collapsed": true
   },
   "source": [
    "# DOI Negotiation"
   ]
  },
  {
   "cell_type": "markdown",
   "metadata": {},
   "source": [
    "## 1 Introduction\n",
    "\n",
    "DOIs provide a persistent link to content. They identify many types of work, from journal articles to research data sets. Typically, someone interacting with DOIs will be a researcher, who will resolve DOIs found in scholarly references to content using a DOI resolver. Such researchers may not even realise they are using DOIs and a DOI resolver since they may follow links with embedded DOIs.\n",
    "\n",
    "Yet DOIs can provide more than a permanent, indirect link to content. DOI registration agencies such as CrossRef, DataCite and mEDRA collect bibliographic metadata about the works they link to. This metadata can be retrieved from a DOI resolver too, using content negotiation to request a particular representation of the metadata.\n",
    "\n",
    "For some DOIs content negotiation can be used to retrieve different representations of a work. For example, some DataCite DOIs identify data sets that may be available in a number of data formats and container formats.\n",
    "\n"
   ]
  },
  {
   "cell_type": "markdown",
   "metadata": {},
   "source": [
    "## 2 Redirection\n",
    "\n",
    "The DOI resolver at doi.org will normally redirect a user to the resource location of a DOI. For example, the DOI \"10.1126/science.169.3946.635\" redirects to a landing page describing the article, \"The Structure of Ordinary Water\". Content negotiated requests to doi.org that ask for a content type which isn't \"text/html\" will be redirected to a metadata service hosted by the DOI's registration agency. CrossRef, DataCite and mEDRA support content negotiated DOIs via https://data.crossref.org, https://data.datacite.org and http://data.medra.org respectively.\n",
    "\n",
    "<div class=\"alert alert-warning\" role=\"alert\" style=\"margin: 10px\">\n",
    "\n",
    "       GET \"Accept: text/html\"\n",
    "https://doi.org/10.1126/science.169.3946.635<br>\n",
    "\n",
    "                   |<br>\n",
    "                   |<br>\n",
    "                   |<br>\n",
    "                   V<br>\n",
    "<br>\n",
    "       Publisher landing page\n",
    "https://www.sciencemag.org/content/169/3946/635\n",
    "</div>\n",
    "\n",
    "Normal browser requests or explicit requests for text/html redirect to the content's landing page.\n",
    "\n",
    "<div class=\"alert alert-warning\" role=\"alert\" style=\"margin: 10px\">\n",
    "\n",
    "             GET \"Accept: application/rdf+xml\"\n",
    "https://doi.org/10.1126/science.169.3946.635<br>\n",
    "\n",
    "                   |<br>\n",
    "                   |<br>\n",
    "                   |<br>\n",
    "                   V<br>\n",
    "<br>\n",
    "CrossRef metadata service\n",
    "http://data.crossref.org/10.1126/science.169.3946.635\n",
    "</div>\n",
    "\n",
    "Requests for a data type redirect to a registration agency's metadata service."
   ]
  },
  {
   "cell_type": "markdown",
   "metadata": {},
   "source": [
    "## 3 What is Content Negotiation?\n",
    "\n",
    "Content negotiation allows a user to request a particular representation of a web resource. DOI resolvers use content negotiation to provide different representations of metadata associated with DOIs.\n",
    "\n",
    "A content negotiated request to a DOI resolver is much like a standard HTTP request, except server-driven negotiation will take place based on the list of acceptable content types a client provides."
   ]
  },
  {
   "cell_type": "markdown",
   "metadata": {},
   "source": [
    "### 3.1 The Accept Header\n",
    "\n",
    "Making a content negotiated request requires the use of a HTTP header, \"Accept\". Content types that are acceptable to the client (those that it knows how to parse), each with an optional \"quality\" value indicating its relative suitability. For example, a client that wishes to receive citeproc JSON if it is available, but which can also handle RDF XML if citeproc JSON is unavailable, would make a request with an Accept header listing both \"application/citeproc+json\" and \"application/rdf+xml\":"
   ]
  },
  {
   "cell_type": "code",
   "execution_count": null,
   "metadata": {
    "collapsed": false
   },
   "outputs": [],
   "source": [
    "import requests\n",
    "\n",
    "url = \"https://doi.org/10.1126/science.169.3946.635\" #DOI solver URL\n",
    "headers = {'Accept': 'application/rdf+xml;q=0.5, application/vnd.citationstyles.csl+json;q=1.0'} #Type of response accpeted\n",
    "r = requests.post(url, headers=headers) #POST with headers\n",
    "print(r.status_code)\n",
    "r.json()\n"
   ]
  },
  {
   "cell_type": "markdown",
   "metadata": {},
   "source": [
    "## JSON \n",
    "When exchanging data between a browser and a server, the data can only be text.\n",
    "\n",
    "JSON is text, and we can convert any JavaScript object into JSON, and send JSON to the server.\n",
    "\n",
    "We can also convert any JSON received from the server into JavaScript objects.\n",
    "\n",
    "This way we can work with the data as JavaScript objects, with no complicated parsing and translations.\n",
    "\n",
    "Different python libraries are oriented to manage JSON objects or files, and the information can be parsed easily. From the previous request, we can get the answer in JSON format and sotore it in a variable:"
   ]
  },
  {
   "cell_type": "code",
   "execution_count": null,
   "metadata": {
    "collapsed": false
   },
   "outputs": [],
   "source": [
    "import requests\n",
    "import json\n",
    "\n",
    "url = \"https://doi.org/10.1126/science.169.3946.635\" #DOI solver URL\n",
    "headers = {'Accept': 'application/rdf+xml;q=0.5, application/vnd.citationstyles.csl+json;q=1.0'} #Type of response accpeted\n",
    "r = requests.post(url, headers=headers) #POST with headers\n",
    "print(r.status_code)\n",
    "data = json.loads(r.text) #Data is now a json object\n",
    "print(data)"
   ]
  },
  {
   "cell_type": "markdown",
   "metadata": {},
   "source": [
    "In order to know the different elements in the JSON, we can run a loop:"
   ]
  },
  {
   "cell_type": "code",
   "execution_count": null,
   "metadata": {
    "collapsed": false
   },
   "outputs": [],
   "source": [
    "for elem in data:\n",
    "    print(elem)"
   ]
  },
  {
   "cell_type": "markdown",
   "metadata": {},
   "source": [
    "For getting the value:"
   ]
  },
  {
   "cell_type": "code",
   "execution_count": null,
   "metadata": {
    "collapsed": false
   },
   "outputs": [],
   "source": [
    "data['URL']"
   ]
  },
  {
   "cell_type": "markdown",
   "metadata": {},
   "source": [
    "And combine both:"
   ]
  },
  {
   "cell_type": "code",
   "execution_count": null,
   "metadata": {
    "collapsed": false
   },
   "outputs": [],
   "source": [
    "for elem in data:\n",
    "    print(elem,\":\", data[elem])"
   ]
  },
  {
   "cell_type": "markdown",
   "metadata": {},
   "source": [
    "### 3.2 Response Codes\n",
    "\n",
    "Code\tMeaning<br>\n",
    "200\tThe request was OK.<br>\n",
    "204\tThe request was OK but there was no metadata available.<br>\n",
    "404\tThe DOI requested doesn't exist.<br>\n",
    "406\tCan't serve any requested content type.<br>\n",
    "\n",
    "Individual RA metadata services may utilise additional response codes but they will always use the response codes above in event of the case described.\n",
    "\n",
    "If multiple content types specified by the client are supported by a DOI then the content type with the highest \"q\" value (or, if no \"q\" values are specified, the one that appears first in the \"accept\" header) will be returned.\n",
    "\n"
   ]
  },
  {
   "cell_type": "markdown",
   "metadata": {},
   "source": [
    "## 4 Formatted Citations\n",
    "\n",
    "CrossRef, DataCite and mEDRA support formatted citations via the text/bibliography content type. These are the output of the Citation Style Language processor, citeproc-js. The content type can take two additional parameters to customise its response format. A \"style\" can be chosen from the list of style names found in the CSL style repository. Many styles are supported, including common styles such as apa and harvard3:"
   ]
  },
  {
   "cell_type": "code",
   "execution_count": null,
   "metadata": {
    "collapsed": false
   },
   "outputs": [],
   "source": [
    "import requests\n",
    "\n",
    "url = \"https://doi.org/10.1126/science.169.3946.635\" #DOI solver URL\n",
    "headers = {'Accept': 'text/x-bibliography; style=apa'} #Type of response accpeted\n",
    "r = requests.post(url, headers=headers) #POST with headers\n",
    "print(r.status_code)\n",
    "print(r.text)"
   ]
  },
  {
   "cell_type": "markdown",
   "metadata": {},
   "source": [
    "### Let's try with a DOI at Zenodo"
   ]
  },
  {
   "cell_type": "code",
   "execution_count": null,
   "metadata": {
    "collapsed": false
   },
   "outputs": [],
   "source": [
    "url = \"https://doi.org/10.5281/zenodo.842715\" #DOI solver URL\n",
    "headers = {'Accept': 'application/rdf+xml;q=0.5, application/vnd.citationstyles.csl+json;q=1.0'} #Type of response accpeted\n",
    "r = requests.post(url, headers=headers) #POST with headers\n",
    "print(r.status_code)\n",
    "print(r.text)"
   ]
  },
  {
   "cell_type": "markdown",
   "metadata": {},
   "source": [
    "## Exercise 1\n",
    "Show title and description"
   ]
  },
  {
   "cell_type": "code",
   "execution_count": null,
   "metadata": {
    "collapsed": true
   },
   "outputs": [],
   "source": []
  },
  {
   "cell_type": "markdown",
   "metadata": {},
   "source": [
    "# Solving PIDs\n",
    "With Handle"
   ]
  },
  {
   "cell_type": "markdown",
   "metadata": {},
   "source": [
    "By default, handle redirects you to the URL field in PID"
   ]
  },
  {
   "cell_type": "code",
   "execution_count": null,
   "metadata": {
    "collapsed": false
   },
   "outputs": [],
   "source": [
    "import requests\n",
    "\n",
    "url = \"http://hdl.handle.net/1895.22/1013\" #PID solver URL\n",
    "r = requests.get(url) #GET\n",
    "print(r.status_code)\n",
    "print(r.text)"
   ]
  },
  {
   "cell_type": "markdown",
   "metadata": {},
   "source": [
    "The handle System has different options that we can manage:\n",
    "\n",
    "http://www.handle.net/proxy_servlet.html\n",
    "\n",
    "For example, we can tell the server not to redirect to URL field:"
   ]
  },
  {
   "cell_type": "code",
   "execution_count": null,
   "metadata": {
    "collapsed": false
   },
   "outputs": [],
   "source": [
    "import requests\n",
    "import json\n",
    "\n",
    "url = \"http://hdl.handle.net/1895.22/1013?noredirect\" #PID URL with ?noredirect\n",
    "r = requests.get(url) #POST with headers\n",
    "print(r.status_code)\n",
    "print(r.text)"
   ]
  },
  {
   "cell_type": "markdown",
   "metadata": {},
   "source": [
    "### Query Parameters\n",
    "\n",
    "This proxy server system REST API is CORS-compliant, however, JSONP callbacks are also supported using a \"callback\" query parameter.\n",
    "\n",
    "The presence of the \"pretty\" query parameter instructs the server to pretty-print the JSON output.\n",
    "\n",
    "The \"auth\" query parameter instructs the proxy server to bypass its cache and query a primary handle server directly for the newest handle data.\n",
    "\n",
    "The \"cert\" query parameter instructs the proxy server to request an authenticated response from the source handle server. Not generally needed by end users.\n",
    "\n",
    "The \"type\" and \"index\" query parameters allow the resolution response to be restricted to specific types and indexes of interest. Multiple \"type\" and \"index\" parameters are allowed and values are returned which match any of the specified types or indexes. For example,\n",
    "\n",
    "For example, http://hdl.handle.net/api/handles/4263537/4000?type=URL&type=EMAIL&callback=processResponse yields the response\n",
    "\n",
    "```JSON\n",
    "processResponse({\n",
    "   \"responseCode\":1,\n",
    "   \"handle\":\"4263537/4000\",\n",
    "   \"values\":[\n",
    "      {\n",
    "         \"index\":1,\n",
    "         \"type\":\"URL\",\n",
    "         \"data\":{ \"format\":\"string\", \"value\":\"http://www.handle.net/index.html\" },\n",
    "         \"ttl\":86400,\n",
    "         \"timestamp\":\"2001-11-21T16:21:35Z\"\n",
    "      },\n",
    "      {\n",
    "         \"index\":2,\n",
    "         \"type\":\"EMAIL\",\n",
    "         \"data\":{ \"format\":\"string\", \"value\":\"hdladmin@cnri.reston.va.us\" },\n",
    "         \"ttl\":86400,\n",
    "         \"timestamp\":\"2000-04-10T22:41:46Z\"\n",
    "      }\n",
    "   ]\n",
    "});\n",
    "```"
   ]
  },
  {
   "cell_type": "code",
   "execution_count": null,
   "metadata": {
    "collapsed": false
   },
   "outputs": [],
   "source": [
    "import requests\n",
    "import json\n",
    "\n",
    "url = \"http://hdl.handle.net/api/handles/4263537/4000?type=URL&type=EMAIL&callback=processResponse\" #PID URL with ?noredirect\n",
    "headers = {'Content-Type': 'application/json'} #Type of response accpeted\n",
    "r = requests.get(url, headers=headers) #POST with headers\n",
    "print(r.text) \n"
   ]
  },
  {
   "cell_type": "markdown",
   "metadata": {},
   "source": [
    "# Exercise 2"
   ]
  },
  {
   "cell_type": "markdown",
   "metadata": {},
   "source": [
    "* 1: Try to find *TWO* different repositories that manage PIDs or DOIs (e.g figshare.com, DataONE)\n",
    "* 2: Check an example file or the documentation to get the identifier from a resource\n",
    "* 3: Resolve the identifier using python request\n",
    "* 4: Show relevant information, like author, title, description...\n",
    "* 5: Is there any difference managing the DOIs/PIDs between the different repositories?"
   ]
  },
  {
   "cell_type": "code",
   "execution_count": null,
   "metadata": {
    "collapsed": false
   },
   "outputs": [],
   "source": []
  }
 ],
 "metadata": {
  "kernelspec": {
   "display_name": "Python 3",
   "language": "python",
   "name": "python3"
  },
  "language_info": {
   "codemirror_mode": {
    "name": "ipython",
    "version": 3
   },
   "file_extension": ".py",
   "mimetype": "text/x-python",
   "name": "python",
   "nbconvert_exporter": "python",
   "pygments_lexer": "ipython3",
   "version": "3.5.2"
  }
 },
 "nbformat": 4,
 "nbformat_minor": 1
}
