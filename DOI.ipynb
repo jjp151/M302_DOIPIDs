{
 "cells": [
  {
   "cell_type": "markdown",
   "metadata": {
    "collapsed": true
   },
   "source": [
    "# DOI Negotiation"
   ]
  },
  {
   "cell_type": "markdown",
   "metadata": {},
   "source": [
    "## 1 Introduction\n",
    "\n",
    "DOIs provide a persistent link to content. They identify many types of work, from journal articles to research data sets. Typically, someone interacting with DOIs will be a researcher, who will resolve DOIs found in scholarly references to content using a DOI resolver. Such researchers may not even realise they are using DOIs and a DOI resolver since they may follow links with embedded DOIs.\n",
    "\n",
    "Yet DOIs can provide more than a permanent, indirect link to content. DOI registration agencies such as CrossRef, DataCite and mEDRA collect bibliographic metadata about the works they link to. This metadata can be retrieved from a DOI resolver too, using content negotiation to request a particular representation of the metadata.\n",
    "\n",
    "For some DOIs content negotiation can be used to retrieve different representations of a work. For example, some DataCite DOIs identify data sets that may be available in a number of data formats and container formats.\n",
    "\n"
   ]
  },
  {
   "cell_type": "markdown",
   "metadata": {},
   "source": [
    "## 2 Redirection\n",
    "\n",
    "The DOI resolver at doi.org will normally redirect a user to the resource location of a DOI. For example, the DOI \"10.1126/science.169.3946.635\" redirects to a landing page describing the article, \"The Structure of Ordinary Water\". Content negotiated requests to doi.org that ask for a content type which isn't \"text/html\" will be redirected to a metadata service hosted by the DOI's registration agency. CrossRef, DataCite and mEDRA support content negotiated DOIs via https://data.crossref.org, https://data.datacite.org and http://data.medra.org respectively.\n",
    "\n",
    "<div class=\"alert alert-warning\" role=\"alert\" style=\"margin: 10px\">\n",
    "\n",
    "       GET \"Accept: text/html\"\n",
    "https://doi.org/10.1126/science.169.3946.635<br>\n",
    "\n",
    "                   |<br>\n",
    "                   |<br>\n",
    "                   |<br>\n",
    "                   V<br>\n",
    "<br>\n",
    "       Publisher landing page\n",
    "https://www.sciencemag.org/content/169/3946/635\n",
    "</div>\n",
    "\n",
    "Normal browser requests or explicit requests for text/html redirect to the content's landing page.\n",
    "\n",
    "<div class=\"alert alert-warning\" role=\"alert\" style=\"margin: 10px\">\n",
    "\n",
    "             GET \"Accept: application/rdf+xml\"\n",
    "https://doi.org/10.1126/science.169.3946.635<br>\n",
    "\n",
    "                   |<br>\n",
    "                   |<br>\n",
    "                   |<br>\n",
    "                   V<br>\n",
    "<br>\n",
    "CrossRef metadata service\n",
    "http://data.crossref.org/10.1126/science.169.3946.635\n",
    "</div>\n",
    "\n",
    "Requests for a data type redirect to a registration agency's metadata service."
   ]
  },
  {
   "cell_type": "markdown",
   "metadata": {},
   "source": [
    "## 3 What is Content Negotiation?\n",
    "\n",
    "Content negotiation allows a user to request a particular representation of a web resource. DOI resolvers use content negotiation to provide different representations of metadata associated with DOIs.\n",
    "\n",
    "A content negotiated request to a DOI resolver is much like a standard HTTP request, except server-driven negotiation will take place based on the list of acceptable content types a client provides."
   ]
  },
  {
   "cell_type": "markdown",
   "metadata": {},
   "source": [
    "### 3.1 The Accept Header\n",
    "\n",
    "Making a content negotiated request requires the use of a HTTP header, \"Accept\". Content types that are acceptable to the client (those that it knows how to parse), each with an optional \"quality\" value indicating its relative suitability. For example, a client that wishes to receive citeproc JSON if it is available, but which can also handle RDF XML if citeproc JSON is unavailable, would make a request with an Accept header listing both \"application/citeproc+json\" and \"application/rdf+xml\":"
   ]
  },
  {
   "cell_type": "code",
   "execution_count": 15,
   "metadata": {},
   "outputs": [
    {
     "name": "stdout",
     "output_type": "stream",
     "text": [
      "200\n",
      "<rdf:RDF\n",
      "    xmlns:rdf=\"http://www.w3.org/1999/02/22-rdf-syntax-ns#\"\n",
      "    xmlns:j.0=\"http://purl.org/dc/terms/\"\n",
      "    xmlns:j.1=\"http://prismstandard.org/namespaces/basic/2.1/\"\n",
      "    xmlns:owl=\"http://www.w3.org/2002/07/owl#\"\n",
      "    xmlns:j.2=\"http://purl.org/ontology/bibo/\"\n",
      "    xmlns:j.3=\"http://xmlns.com/foaf/0.1/\">\n",
      "  <rdf:Description rdf:about=\"http://dx.doi.org/10.1126/science.169.3946.635\">\n",
      "    <j.1:startingPage>635</j.1:startingPage>\n",
      "    <owl:sameAs rdf:resource=\"doi:10.1126/science.169.3946.635\"/>\n",
      "    <owl:sameAs rdf:resource=\"info:doi/10.1126/science.169.3946.635\"/>\n",
      "    <j.0:identifier>10.1126/science.169.3946.635</j.0:identifier>\n",
      "    <j.0:publisher>American Association for the Advancement of Science (AAAS)</j.0:publisher>\n",
      "    <j.0:creator>\n",
      "      <j.3:Person rdf:about=\"http://id.crossref.org/contributor/h-s-frank-3new7r2ulpnaj\">\n",
      "        <j.3:name>H. S. Frank</j.3:name>\n",
      "        <j.3:familyName>Frank</j.3:familyName>\n",
      "        <j.3:givenName>H. S.</j.3:givenName>\n",
      "      </j.3:Person>\n",
      "    </j.0:creator>\n",
      "    <j.1:doi>10.1126/science.169.3946.635</j.1:doi>\n",
      "    <j.2:pageEnd>641</j.2:pageEnd>\n",
      "    <j.2:doi>10.1126/science.169.3946.635</j.2:doi>\n",
      "    <j.2:volume>169</j.2:volume>\n",
      "    <j.0:isPartOf>\n",
      "      <j.2:Journal rdf:about=\"http://id.crossref.org/issn/0036-8075\">\n",
      "        <j.1:issn>1095-9203</j.1:issn>\n",
      "        <j.2:issn>1095-9203</j.2:issn>\n",
      "        <owl:sameAs>urn:issn:1095-9203</owl:sameAs>\n",
      "        <owl:sameAs>urn:issn:0036-8075</owl:sameAs>\n",
      "        <j.0:title>Science</j.0:title>\n",
      "        <j.1:issn>0036-8075</j.1:issn>\n",
      "        <j.2:issn>0036-8075</j.2:issn>\n",
      "      </j.2:Journal>\n",
      "    </j.0:isPartOf>\n",
      "    <j.0:title>The Structure of Ordinary Water: New data and interpretations are yielding new insights into this fascinating substance</j.0:title>\n",
      "    <j.1:endingPage>641</j.1:endingPage>\n",
      "    <j.0:date rdf:datatype=\"http://www.w3.org/2001/XMLSchema#date\"\n",
      "    >1970-08-14</j.0:date>\n",
      "    <j.1:volume>169</j.1:volume>\n",
      "    <j.2:pageStart>635</j.2:pageStart>\n",
      "  </rdf:Description>\n",
      "</rdf:RDF>\n",
      "\n"
     ]
    }
   ],
   "source": [
    "import requests\n",
    "\n",
    "url = \"https://doi.org/10.1126/science.169.3946.635\" #DOI solver URL\n",
    "headers = {'Accept': 'application/rdf+xml;q=0.5'} #Type of response accpeted\n",
    "r = requests.post(url, headers=headers) #POST with headers\n",
    "print(r.status_code)\n",
    "print(r.text)\n"
   ]
  },
  {
   "cell_type": "markdown",
   "metadata": {},
   "source": [
    "## JSON \n",
    "When exchanging data between a browser and a server, the data can only be text.\n",
    "\n",
    "JSON is text, and we can convert any JavaScript object into JSON, and send JSON to the server.\n",
    "\n",
    "We can also convert any JSON received from the server into JavaScript objects.\n",
    "\n",
    "This way we can work with the data as JavaScript objects, with no complicated parsing and translations.\n",
    "\n",
    "Different python libraries are oriented to manage JSON objects or files, and the information can be parsed easily. From the previous request, we can get the answer in JSON format and store it in a variable:"
   ]
  },
  {
   "cell_type": "code",
   "execution_count": 16,
   "metadata": {},
   "outputs": [
    {
     "name": "stdout",
     "output_type": "stream",
     "text": [
      "200\n",
      "{'indexed': {'date-parts': [[2017, 10, 25]], 'date-time': '2017-10-25T02:44:17Z', 'timestamp': 1508899457908}, 'reference-count': 0, 'publisher': 'American Association for the Advancement of Science (AAAS)', 'issue': '3946', 'content-domain': {'domain': [], 'crossmark-restriction': False}, 'published-print': {'date-parts': [[1970, 8, 14]]}, 'DOI': '10.1126/science.169.3946.635', 'type': 'article-journal', 'created': {'date-parts': [[2006, 10, 5]], 'date-time': '2006-10-05T12:56:56Z', 'timestamp': 1160053016000}, 'page': '635-641', 'source': 'Crossref', 'is-referenced-by-count': 55, 'title': 'The Structure of Ordinary Water: New data and interpretations are yielding new insights into this fascinating substance', 'prefix': '10.1126', 'volume': '169', 'author': [{'given': 'H. S.', 'family': 'Frank', 'affiliation': []}], 'member': '221', 'container-title': 'Science', 'original-title': [], 'link': [{'URL': 'https://syndication.highwire.org/content/doi/10.1126/science.169.3946.635', 'content-type': 'unspecified', 'content-version': 'vor', 'intended-application': 'similarity-checking'}], 'deposited': {'date-parts': [[2016, 12, 23]], 'date-time': '2016-12-23T19:54:07Z', 'timestamp': 1482522847000}, 'score': 1.0, 'subtitle': [], 'short-title': [], 'issued': {'date-parts': [[1970, 8, 14]]}, 'references-count': 0, 'URL': 'http://dx.doi.org/10.1126/science.169.3946.635', 'relation': {}, 'ISSN': ['0036-8075', '1095-9203'], 'subject': ['Multidisciplinary'], 'container-title-short': 'Science'}\n"
     ]
    }
   ],
   "source": [
    "import requests\n",
    "import json\n",
    "\n",
    "url = \"https://doi.org/10.1126/science.169.3946.635\" #DOI solver URL\n",
    "headers = {'Accept': 'application/vnd.citationstyles.csl+json;q=1.0'} #Type of response accpeted\n",
    "r = requests.post(url, headers=headers) #POST with headers\n",
    "print(r.status_code) #200 means that the resource exists\n",
    "data = json.loads(r.text) #Data is now a json object\n",
    "print(data)"
   ]
  },
  {
   "cell_type": "markdown",
   "metadata": {},
   "source": [
    "In order to know the different elements in the JSON, we can run a loop:"
   ]
  },
  {
   "cell_type": "code",
   "execution_count": 17,
   "metadata": {},
   "outputs": [
    {
     "name": "stdout",
     "output_type": "stream",
     "text": [
      "indexed\n",
      "reference-count\n",
      "publisher\n",
      "issue\n",
      "content-domain\n",
      "published-print\n",
      "DOI\n",
      "type\n",
      "created\n",
      "page\n",
      "source\n",
      "is-referenced-by-count\n",
      "title\n",
      "prefix\n",
      "volume\n",
      "author\n",
      "member\n",
      "container-title\n",
      "original-title\n",
      "link\n",
      "deposited\n",
      "score\n",
      "subtitle\n",
      "short-title\n",
      "issued\n",
      "references-count\n",
      "URL\n",
      "relation\n",
      "ISSN\n",
      "subject\n",
      "container-title-short\n"
     ]
    }
   ],
   "source": [
    "for elem in data:\n",
    "    print(elem)"
   ]
  },
  {
   "cell_type": "markdown",
   "metadata": {},
   "source": [
    "For getting the value:"
   ]
  },
  {
   "cell_type": "code",
   "execution_count": 18,
   "metadata": {},
   "outputs": [
    {
     "data": {
      "text/plain": [
       "'http://dx.doi.org/10.1126/science.169.3946.635'"
      ]
     },
     "execution_count": 18,
     "metadata": {},
     "output_type": "execute_result"
    }
   ],
   "source": [
    "data['URL']"
   ]
  },
  {
   "cell_type": "markdown",
   "metadata": {},
   "source": [
    "And combine both:"
   ]
  },
  {
   "cell_type": "code",
   "execution_count": 19,
   "metadata": {},
   "outputs": [
    {
     "name": "stdout",
     "output_type": "stream",
     "text": [
      "indexed : {'date-parts': [[2017, 10, 25]], 'date-time': '2017-10-25T02:44:17Z', 'timestamp': 1508899457908}\n",
      "reference-count : 0\n",
      "publisher : American Association for the Advancement of Science (AAAS)\n",
      "issue : 3946\n",
      "content-domain : {'domain': [], 'crossmark-restriction': False}\n",
      "published-print : {'date-parts': [[1970, 8, 14]]}\n",
      "DOI : 10.1126/science.169.3946.635\n",
      "type : article-journal\n",
      "created : {'date-parts': [[2006, 10, 5]], 'date-time': '2006-10-05T12:56:56Z', 'timestamp': 1160053016000}\n",
      "page : 635-641\n",
      "source : Crossref\n",
      "is-referenced-by-count : 55\n",
      "title : The Structure of Ordinary Water: New data and interpretations are yielding new insights into this fascinating substance\n",
      "prefix : 10.1126\n",
      "volume : 169\n",
      "author : [{'given': 'H. S.', 'family': 'Frank', 'affiliation': []}]\n",
      "member : 221\n",
      "container-title : Science\n",
      "original-title : []\n",
      "link : [{'URL': 'https://syndication.highwire.org/content/doi/10.1126/science.169.3946.635', 'content-type': 'unspecified', 'content-version': 'vor', 'intended-application': 'similarity-checking'}]\n",
      "deposited : {'date-parts': [[2016, 12, 23]], 'date-time': '2016-12-23T19:54:07Z', 'timestamp': 1482522847000}\n",
      "score : 1.0\n",
      "subtitle : []\n",
      "short-title : []\n",
      "issued : {'date-parts': [[1970, 8, 14]]}\n",
      "references-count : 0\n",
      "URL : http://dx.doi.org/10.1126/science.169.3946.635\n",
      "relation : {}\n",
      "ISSN : ['0036-8075', '1095-9203']\n",
      "subject : ['Multidisciplinary']\n",
      "container-title-short : Science\n"
     ]
    }
   ],
   "source": [
    "for elem in data:\n",
    "    print(elem,\":\", data[elem])"
   ]
  },
  {
   "cell_type": "markdown",
   "metadata": {},
   "source": [
    "### 3.2 Response Codes\n",
    "\n",
    "Code\tMeaning<br>\n",
    "200\tThe request was OK.<br>\n",
    "204\tThe request was OK but there was no metadata available.<br>\n",
    "404\tThe DOI requested doesn't exist.<br>\n",
    "406\tCan't serve any requested content type.<br>\n",
    "\n",
    "Individual RA metadata services may utilise additional response codes but they will always use the response codes above in event of the case described.\n",
    "\n",
    "If multiple content types specified by the client are supported by a DOI then the content type with the highest \"q\" value (or, if no \"q\" values are specified, the one that appears first in the \"accept\" header) will be returned.\n",
    "\n"
   ]
  },
  {
   "cell_type": "markdown",
   "metadata": {},
   "source": [
    "## 4 Formatted Citations\n",
    "\n",
    "CrossRef, DataCite and mEDRA support formatted citations via the text/bibliography content type. These are the output of the Citation Style Language processor, citeproc-js. The content type can take two additional parameters to customise its response format. A \"style\" can be chosen from the list of style names found in the CSL style repository. Many styles are supported, including common styles such as apa and harvard3:"
   ]
  },
  {
   "cell_type": "code",
   "execution_count": 21,
   "metadata": {},
   "outputs": [
    {
     "name": "stdout",
     "output_type": "stream",
     "text": [
      "200\n",
      " @article{Frank_1970, title={The Structure of Ordinary Water: New data and interpretations are yielding new insights into this fascinating substance}, volume={169}, ISSN={1095-9203}, url={http://dx.doi.org/10.1126/science.169.3946.635}, DOI={10.1126/science.169.3946.635}, number={3946}, journal={Science}, publisher={American Association for the Advancement of Science (AAAS)}, author={Frank, H. S.}, year={1970}, month={Aug}, pages={635â641}}\n",
      "\n"
     ]
    }
   ],
   "source": [
    "import requests\n",
    "\n",
    "url = \"https://doi.org/10.1126/science.169.3946.635\" #DOI solver URL\n",
    "headers = {'Accept': 'text/x-bibliography; style=bibtex'} #Type of response accpeted\n",
    "r = requests.post(url, headers=headers) #POST with headers\n",
    "print(r.status_code)\n",
    "print(r.text)"
   ]
  },
  {
   "cell_type": "markdown",
   "metadata": {},
   "source": [
    "### Let's try with a DOI at Zenodo"
   ]
  },
  {
   "cell_type": "code",
   "execution_count": 23,
   "metadata": {},
   "outputs": [
    {
     "name": "stdout",
     "output_type": "stream",
     "text": [
      "200\n",
      "{\n",
      "  \"type\": \"dataset\",\n",
      "  \"id\": \"https://doi.org/10.5281/zenodo.842715\",\n",
      "  \"categories\": [\n",
      "    \"Cuerda del Pozo\",\n",
      "    \"Reservoir\",\n",
      "    \"Freshwater\",\n",
      "    \"Water Quality\",\n",
      "    \"AMT\"\n",
      "  ],\n",
      "  \"author\": [\n",
      "    {\n",
      "      \"family\": \"Aguilar\",\n",
      "      \"given\": \"Fernando\"\n",
      "    },\n",
      "    {\n",
      "      \"family\": \"Marco\",\n",
      "      \"given\": \"Jesús\"\n",
      "    },\n",
      "    {\n",
      "      \"family\": \"Monteoliva\",\n",
      "      \"given\": \"Agustín\"\n",
      "    }\n",
      "  ],\n",
      "  \"issued\": {\n",
      "    \"date-parts\": [\n",
      "      [\n",
      "        2017,\n",
      "        8,\n",
      "        14\n",
      "      ]\n",
      "    ]\n",
      "  },\n",
      "  \"abstract\": \"AMT data from Cuerda del Pozo Reservoir in 2010. It includes: Temperature, Pressure, Conductivity, Dissolved Oxygen, raw O2, Oxygen saturation, ph and redex values.\",\n",
      "  \"DOI\": \"10.5281/zenodo.842715\",\n",
      "  \"page\": \"-\",\n",
      "  \"publisher\": \"Zenodo\",\n",
      "  \"title\": \"Amt Cuerda Del Pozo 2010\"\n",
      "}\n"
     ]
    }
   ],
   "source": [
    "url = \"https://doi.org/10.5281/zenodo.842715\" #DOI solver URL\n",
    "headers = {'Accept': 'application/vnd.citationstyles.csl+json;q=1.0'} #Type of response accpeted\n",
    "r = requests.post(url, headers=headers) #POST with headers\n",
    "print(r.status_code)\n",
    "print(r.text)"
   ]
  },
  {
   "cell_type": "markdown",
   "metadata": {},
   "source": [
    "## Exercise 1\n",
    "Show title and description"
   ]
  },
  {
   "cell_type": "code",
   "execution_count": null,
   "metadata": {},
   "outputs": [],
   "source": []
  },
  {
   "cell_type": "markdown",
   "metadata": {},
   "source": [
    "# Solving PIDs\n",
    "With Handle"
   ]
  },
  {
   "cell_type": "markdown",
   "metadata": {},
   "source": [
    "By default, handle redirects you to the URL field in PID"
   ]
  },
  {
   "cell_type": "code",
   "execution_count": 24,
   "metadata": {},
   "outputs": [
    {
     "name": "stdout",
     "output_type": "stream",
     "text": [
      "200\n",
      "<HTML>\n",
      "<HEAD>\n",
      "<META HTTP-EQUIV=\"Content-Type\" CONTENT=\"text/html; charset=windows-1252\">\n",
      "<META NAME=\"Generator\" CONTENT=\"Microsoft Word 97\">\n",
      "<TITLE>License for PYTHON 1.6.1</TITLE>\n",
      "</HEAD>\n",
      "<BODY LINK=\"#0000ff\" VLINK=\"#800080\">\n",
      "\n",
      "<FONT FACE=\"Century Schoolbook\">\n",
      "<P>&nbsp;</P>\n",
      "<P ALIGN=\"CENTER\">PYTHON 1.6.1</P>\n",
      "<P ALIGN=\"CENTER\">PYTHON 1.6.1 LICENSE AGREEMENT<BR>\n",
      "</P>\n",
      "<P>1. This LICENSE AGREEMENT is between the Corporation for National Research Initiatives, having an office at 1895 Preston White Drive, Reston, VA 20191 (\"CNRI\"), and the Individual or Organization (\"Licensee\") accessing and otherwise using Python 1.6.1 software in source or binary form and its associated documentation.</P>\n",
      "\n",
      "<P>2. Subject to the terms and conditions of this License Agreement, CNRI hereby grants Licensee a nonexclusive, royalty-free, world-wide license to reproduce, analyze, test, perform and/or display publicly, prepare derivative works, distribute, and otherwise use Python 1.6.1 alone or in any derivative version, provided, however, that CNRI's License Agreement and CNRI's notice of copyright, i.e., \"Copyright(c) 1995-2001 Corporation for National Research Initiatives; All Rights Reserved\" are retained in Python 1.6.1 alone or in any derivative version prepared by Licensee. Alternately, in lieu of CNRI's License Agreement, Licensee may substitute the following text (omitting the quotes): \"Python 1.6.1 is made available subject to the terms and conditions in CNRI's License Agreement. This Agreement together with Python 1.6.1 may be located on the Internet using the following unique, persistent identifier (known as a handle): 1895.22/1013. This Agreement may also be obtained from a proxy server on the Internet using the following URL: </FONT><A HREF=\"http://hdl.handle.net/1895.22/1013\"><FONT FACE=\"Century Schoolbook\">http://hdl.handle.net/1895.22/1013</FONT></A><FONT FACE=\"Century Schoolbook\">\".</P>\n",
      "\n",
      "<P>3. In the event Licensee prepares a derivative work that is based on or incorporates Python 1.6.1 or any part thereof, and wants to make the derivative work available to others as provided herein, then Licensee hereby agrees to include in any such work a brief summary of the changes made to Python 1.6.1.</P>\n",
      "\n",
      "<P>4. CNRI is making Python 1.6.1 available to Licensee on an \"AS IS\" basis. CNRI MAKES NO REPRESENTATIONS OR WARRANTIES, EXPRESS OR IMPLIED. BY WAY OF EXAMPLE, BUT NOT LIMITATION, CNRI MAKES NO AND DISCLAIMS ANY REPRESENTATION OR WARRANTY OF MERCHANTABILITY OR FITNESS FOR ANY PARTICULAR PURPOSE OR THAT THE USE OF PYTHON 1.6.1 WILL NOT INFRINGE ANY THIRD PARTY RIGHTS.</P>\n",
      "\n",
      "<P>5. CNRI SHALL NOT BE LIABLE TO LICENSEE OR ANY OTHER USERS OF PYTHON 1.6.1 FOR ANY INCIDENTAL, SPECIAL, OR CONSEQUENTIAL DAMAGES OR LOSS AS A RESULT OF MODIFYING, DISTRIBUTING, OR OTHERWISE USING PYTHON 1.6.1, OR ANY DERIVATIVE THEREOF, EVEN IF ADVISED OF THE POSSIBILITY THEREOF.</P>\n",
      "\n",
      "<P>6. This License Agreement will automatically terminate upon a material breach of its terms and conditions.</P>\n",
      "\n",
      "<P>7. This License Agreement shall be governed by the federal intellectual \n",
      "property law of the United States, including without limitation the federal \n",
      "copyright law, and, to the extent such U.S. federal law does not apply, by \n",
      "the law of the Commonwealth of Virginia, excluding Virginia's conflict of law\n",
      "provisions.  Notwithstanding the foregoing, with regard to derivative works \n",
      "based on Python 1.6.1 that incorporate non-separable material that was\n",
      "previously distributed under the GNU General Public License (GPL), the law\n",
      "of the Commonwealth of Virginia shall govern this License Agreement only \n",
      "as to issues arising under or with respect to Paragraphs 4, 5, and 7 of this \n",
      "License Agreement. Nothing in this License Agreement shall be deemed to create any relationship of agency, partnership, or joint venture between CNRI and Licensee. This License Agreement does not grant permission to use CNRI trademarks or trade name in a trademark sense to endorse or promote products or services of Licensee, or any third party.</P>\n",
      "\n",
      "<P>8. By clicking on the \"ACCEPT\" button where indicated, or by copying, installing or otherwise using Python 1.6.1, Licensee agrees to be bound by the terms and conditions of this License Agreement.</P>\n",
      "\n",
      "<P ALIGN=\"CENTER\">ACCEPT</P>\n",
      "<P></P></FONT></BODY>\n",
      "</HTML>\n",
      "\n"
     ]
    }
   ],
   "source": [
    "import requests\n",
    "\n",
    "url = \"http://hdl.handle.net/1895.22/1013\" #PID solver URL\n",
    "r = requests.get(url) #GET\n",
    "print(r.status_code)\n",
    "print(r.text)"
   ]
  },
  {
   "cell_type": "markdown",
   "metadata": {},
   "source": [
    "The handle System has different options that we can manage:\n",
    "\n",
    "http://www.handle.net/proxy_servlet.html\n",
    "\n",
    "For example, we can tell the server not to redirect to URL field:"
   ]
  },
  {
   "cell_type": "code",
   "execution_count": 25,
   "metadata": {},
   "outputs": [
    {
     "name": "stdout",
     "output_type": "stream",
     "text": [
      "200\n",
      "<!DOCTYPE HTML PUBLIC \"-//W3C//DTD HTML 4.01 Transitional//EN\">\n",
      "\n",
      "<html><head><title>Handle Proxy</title></head>\n",
      "\n",
      "<body bgcolor=\"#ffffff\">\n",
      "\n",
      "<a href=\"http://www.handle.net\">\n",
      "<img src=\"/static/images/res_tool.gif\" width=\"270\" height=\"40\" alt=\"Handle.net Logo\" border=0></a>\n",
      "\n",
      "<table width=\"100%\">\n",
      "<tbody>\n",
      "<tr><th colspan=\"4\" align=\"left\" bgcolor=\"#dddddd\">Handle Values for: 1895.22/1013</th></tr>\n",
      "<tr><td align=\"left\" valign=\"top\">Index</td><td align=\"left\" valign=\"top\">Type</td><td align=\"left\" valign=\"top\">Timestamp</td><td align=\"left\" valign=\"top\">Data</td></tr>\n",
      "<tr bgcolor=\"#dddddd\"><td align=\"left\" valign=\"top\"><b>100</b></td><td align=\"left\" valign=\"top\"><b><a href=\"http://hdl.handle.net/0.TYPE/HS_ADMIN\">HS_ADMIN</a></b></td><td valign=\"top\"><span style='white-space:nowrap'>2015-04-03&nbsp;21:20:10Z</span></td>\n",
      "<td>handle=200/1; index=300; [create hdl,delete hdl,create derived prefix,delete derived prefix,read val,modify val,del val,add val,modify admin,del admin,add admin,list]</td></tr>\n",
      "<tr bgcolor=\"#ffffff\"><td align=\"left\" valign=\"top\"><b>3</b></td><td align=\"left\" valign=\"top\"><b><a href=\"http://hdl.handle.net/0.TYPE/URL\">URL</a></b></td><td valign=\"top\"><span style='white-space:nowrap'>2015-04-03&nbsp;21:20:10Z</span></td>\n",
      "<td><a href=\"http://www.handle.net/python_licenses/python1.6.1-2-23-01.html\">http://www.handle.net/python_licenses/python1.6.1-2-23-01.html</a></td></tr>\n",
      "\n",
      "\n",
      "</tbody></table>\n",
      "\n",
      "\n",
      "<p><strong><em><small>\n",
      "<a href=\"/help.html\">Handle Proxy Server Documentation</a><br/>\n",
      "<a href=\"http://www.handle.net/\">Handle.net Web Site</a>\n",
      "</small>\n",
      "</em></strong></p>\n",
      "<p><i>Please contact <a href=\"mailto:hdladmin@cnri.reston.va.us?subject=Handle%20Questions%20and%20Comments\">hdladmin@cnri.reston.va.us</a> for your handle questions and comments</i>.\n",
      "\n",
      "</body></html>\n",
      "\n",
      "\n"
     ]
    }
   ],
   "source": [
    "import requests\n",
    "import json\n",
    "\n",
    "url = \"http://hdl.handle.net/1895.22/1013?noredirect\" #PID URL with ?noredirect\n",
    "r = requests.get(url) #POST with headers\n",
    "print(r.status_code)\n",
    "print(r.text)"
   ]
  },
  {
   "cell_type": "markdown",
   "metadata": {},
   "source": [
    "### Query Parameters\n",
    "\n",
    "This proxy server system REST API is CORS-compliant, however, JSONP callbacks are also supported using a \"callback\" query parameter.\n",
    "\n",
    "The presence of the \"pretty\" query parameter instructs the server to pretty-print the JSON output.\n",
    "\n",
    "The \"auth\" query parameter instructs the proxy server to bypass its cache and query a primary handle server directly for the newest handle data.\n",
    "\n",
    "The \"cert\" query parameter instructs the proxy server to request an authenticated response from the source handle server. Not generally needed by end users.\n",
    "\n",
    "The \"type\" and \"index\" query parameters allow the resolution response to be restricted to specific types and indexes of interest. Multiple \"type\" and \"index\" parameters are allowed and values are returned which match any of the specified types or indexes. For example,\n",
    "\n",
    "For example, http://hdl.handle.net/api/handles/4263537/4000?type=URL&type=EMAIL&callback=processResponse yields the response\n",
    "\n",
    "```JSON\n",
    "processResponse({\n",
    "   \"responseCode\":1,\n",
    "   \"handle\":\"4263537/4000\",\n",
    "   \"values\":[\n",
    "      {\n",
    "         \"index\":1,\n",
    "         \"type\":\"URL\",\n",
    "         \"data\":{ \"format\":\"string\", \"value\":\"http://www.handle.net/index.html\" },\n",
    "         \"ttl\":86400,\n",
    "         \"timestamp\":\"2001-11-21T16:21:35Z\"\n",
    "      },\n",
    "      {\n",
    "         \"index\":2,\n",
    "         \"type\":\"EMAIL\",\n",
    "         \"data\":{ \"format\":\"string\", \"value\":\"hdladmin@cnri.reston.va.us\" },\n",
    "         \"ttl\":86400,\n",
    "         \"timestamp\":\"2000-04-10T22:41:46Z\"\n",
    "      }\n",
    "   ]\n",
    "});\n",
    "```"
   ]
  },
  {
   "cell_type": "code",
   "execution_count": 26,
   "metadata": {},
   "outputs": [
    {
     "name": "stdout",
     "output_type": "stream",
     "text": [
      "processResponse({\"responseCode\":1,\"handle\":\"4263537/4000\",\"values\":[{\"index\":1,\"type\":\"URL\",\"data\":{\"format\":\"string\",\"value\":\"http://www.handle.net/index.html\"},\"ttl\":86400,\"timestamp\":\"2015-04-03T21:20:22Z\"},{\"index\":2,\"type\":\"EMAIL\",\"data\":{\"format\":\"string\",\"value\":\"hdladmin@cnri.reston.va.us\"},\"ttl\":86400,\"timestamp\":\"2015-04-03T21:20:22Z\"}]});\n"
     ]
    }
   ],
   "source": [
    "import requests\n",
    "import json\n",
    "\n",
    "url = \"http://hdl.handle.net/api/handles/4263537/4000?type=URL&type=EMAIL&callback=processResponse\" #PID URL with ?noredirect\n",
    "headers = {'Content-Type': 'application/json'} #Type of response accpeted\n",
    "r = requests.get(url, headers=headers) #POST with headers\n",
    "print(r.text) \n"
   ]
  },
  {
   "cell_type": "markdown",
   "metadata": {},
   "source": [
    "# Exercise 2"
   ]
  },
  {
   "cell_type": "markdown",
   "metadata": {},
   "source": [
    "* 1: Try to find *TWO* different repositories that manage PIDs or DOIs (e.g figshare.com, DataONE)\n",
    "* 2: Check an example file or the documentation to get the identifier from a resource\n",
    "* 3: Resolve the identifier using python request\n",
    "* 4: Show relevant information, like author, title, description...\n",
    "* 5: Is there any difference managing the DOIs/PIDs between the different repositories?"
   ]
  },
  {
   "cell_type": "code",
   "execution_count": null,
   "metadata": {},
   "outputs": [],
   "source": []
  }
 ],
 "metadata": {
  "kernelspec": {
   "display_name": "Python 3",
   "language": "python",
   "name": "python3"
  },
  "language_info": {
   "codemirror_mode": {
    "name": "ipython",
    "version": 3
   },
   "file_extension": ".py",
   "mimetype": "text/x-python",
   "name": "python",
   "nbconvert_exporter": "python",
   "pygments_lexer": "ipython3",
   "version": "3.6.3"
  }
 },
 "nbformat": 4,
 "nbformat_minor": 1
}
